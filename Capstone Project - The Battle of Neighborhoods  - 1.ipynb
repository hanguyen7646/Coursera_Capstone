{
 "cells": [
  {
   "cell_type": "markdown",
   "metadata": {},
   "source": [
    "# Capstone Project - The Battle of Neighborhoods"
   ]
  },
  {
   "cell_type": "markdown",
   "metadata": {},
   "source": [
    "#### Introduction/Business Problem"
   ]
  },
  {
   "cell_type": "markdown",
   "metadata": {},
   "source": [
    "*A description of the problem and a discussion of the background.*"
   ]
  },
  {
   "cell_type": "markdown",
   "metadata": {},
   "source": [
    "For my final project in this IBM Data Science specialization, I want to explore more about Vietnamese restaurants in Toronto, Canada. As the most populous city in Canada, it is a world leader in business, finance and technology. Toronto is also the most multiculturally diverse city on the planet: over 140 languages are spoken. It's estimated that over half of Toronto's residents were born outside Canada. Toronto’s motto is “Diversity Our Strength”; hence, Toronto provides wide range of cultures, languages, and especially food items. There are numerous restaurants in Toronto with many world cooking styles represented from China, Japan, India, etc, which reflects Toronto's cosmopolitan atmosphere.\n",
    "Since the city has over 240 distinct neighborhoods within its boundaries, I will list and visualize all major parts of Toronto that has great Vietnamese restaurants. This report will be a reference for any people want to enjoy Vietnamese cuisine regularly.\n"
   ]
  },
  {
   "cell_type": "markdown",
   "metadata": {},
   "source": [
    "#### Data Description"
   ]
  },
  {
   "cell_type": "markdown",
   "metadata": {},
   "source": [
    "*A description of the data and how it will be used to solve the problem.*"
   ]
  },
  {
   "cell_type": "markdown",
   "metadata": {},
   "source": [
    "For this project we need the following data :\n",
    "1.\tToronta data that contains list Boroughs, Neighborhoods along with their latitude and longitude.\n",
    "https://en.wikipedia.org/wiki/List_of_postal_codes_of_Canada:_M, Fousquare API\n",
    "2.\tVietnamese resturants in Toronto.\n",
    "Fousquare API\n",
    "3.\tGeoSpace data\n",
    "4.\tCity of Toronto Neighborhood Shapes for mapping : GeoJSON File\n"
   ]
  },
  {
   "cell_type": "code",
   "execution_count": null,
   "metadata": {},
   "outputs": [],
   "source": []
  }
 ],
 "metadata": {
  "kernelspec": {
   "display_name": "Python 3",
   "language": "python",
   "name": "python3"
  },
  "language_info": {
   "codemirror_mode": {
    "name": "ipython",
    "version": 3
   },
   "file_extension": ".py",
   "mimetype": "text/x-python",
   "name": "python",
   "nbconvert_exporter": "python",
   "pygments_lexer": "ipython3",
   "version": "3.7.1"
  }
 },
 "nbformat": 4,
 "nbformat_minor": 2
}
